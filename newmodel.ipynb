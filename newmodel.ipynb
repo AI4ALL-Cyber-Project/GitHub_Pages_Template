{
 "cells": [
  {
   "cell_type": "code",
   "execution_count": 16,
   "metadata": {},
   "outputs": [
    {
     "name": "stdout",
     "output_type": "stream",
     "text": [
      "Accuracy: 0.9998\n",
      "\n",
      "Classification Report:\n",
      "              precision    recall  f1-score   support\n",
      "\n",
      "      Attack       1.00      1.00      1.00    154283\n",
      "      Benign       1.00      1.00      1.00    362015\n",
      "\n",
      "    accuracy                           1.00    516298\n",
      "   macro avg       1.00      1.00      1.00    516298\n",
      "weighted avg       1.00      1.00      1.00    516298\n",
      "\n"
     ]
    },
    {
     "data": {
      "image/png": "[encoded data removed]",
      "text/plain": [
       "<Figure size 600x500 with 2 Axes>"
      ]
     },
     "metadata": {},
     "output_type": "display_data"
    },
    {
     "name": "stdout",
     "output_type": "stream",
     "text": [
      "Model saved as new_model.joblib and features saved as model_features.joblib\n"
     ]
    }
   ],
   "source": [
    "import pandas as pd\n",
    "import numpy as np\n",
    "from sklearn.ensemble import RandomForestClassifier\n",
    "from sklearn.model_selection import GroupShuffleSplit\n",
    "from sklearn.metrics import classification_report, accuracy_score, confusion_matrix\n",
    "import matplotlib.pyplot as plt\n",
    "import seaborn as sns\n",
    "import joblib\n",
    "\n",
    "# Load cleaned datasets\n",
    "tuesday = pd.read_csv('tuesday_plus_cleaned.csv')\n",
    "wednesday = pd.read_csv('wednesday_plus_cleaned.csv')\n",
    "thursday = pd.read_csv('thursday_plus_cleaned.csv')\n",
    "friday = pd.read_csv('friday_plus_cleaned.csv')\n",
    "\n",
    "# Combine datasets\n",
    "combined_df = pd.concat([tuesday, wednesday, thursday, friday], ignore_index=True)\n",
    "\n",
    "# Columns to keep\n",
    "selected_columns = [\n",
    "    'Flow Duration', 'Total Fwd Packet', 'Total Bwd packets',\n",
    "    'Total Length of Fwd Packet', 'Total Length of Bwd Packet',\n",
    "    'Fwd Packet Length Mean', 'Bwd Packet Length Mean',\n",
    "    'Flow Bytes/s', 'Flow Packets/s', 'Flow IAT Mean', 'Fwd IAT Mean', 'Bwd IAT Mean',\n",
    "    'FIN Flag Count', 'SYN Flag Count', 'RST Flag Count', 'PSH Flag Count',\n",
    "    'ACK Flag Count', 'URG Flag Count', 'FWD Init Win Bytes', 'Bwd Init Win Bytes',\n",
    "    'Down/Up Ratio', 'Average Packet Size', 'Fwd Segment Size Avg',\n",
    "    'Bwd Segment Size Avg', 'Protocol', 'Src Port', 'Dst Port', 'Label'\n",
    "]\n",
    "\n",
    "combined_df = combined_df[selected_columns]\n",
    "combined_df.dropna(inplace=True)\n",
    "\n",
    "# Normalize labels\n",
    "combined_df['Label'] = combined_df['Label'].str.upper()\n",
    "combined_df['Label'] = combined_df['Label'].apply(lambda x: 'Benign' if x == 'BENIGN' else 'Attack')\n",
    "\n",
    "X = combined_df.drop('Label', axis=1)\n",
    "y = combined_df['Label']\n",
    "\n",
    "groups = np.arange(len(X))\n",
    "\n",
    "gss = GroupShuffleSplit(n_splits=1, test_size=0.3, random_state=42)\n",
    "train_idx, test_idx = next(gss.split(X, y, groups))\n",
    "X_train, X_test = X.iloc[train_idx], X.iloc[test_idx]\n",
    "y_train, y_test = y.iloc[train_idx], y.iloc[test_idx]\n",
    "\n",
    "# Use class_weight balanced\n",
    "model = RandomForestClassifier(n_estimators=100, random_state=42, class_weight='balanced')\n",
    "model.fit(X_train, y_train)\n",
    "\n",
    "y_pred = model.predict(X_test)\n",
    "accuracy = accuracy_score(y_test, y_pred)\n",
    "print(\"Accuracy:\", round(accuracy, 4))\n",
    "print(\"\\nClassification Report:\")\n",
    "print(classification_report(y_test, y_pred))\n",
    "\n",
    "cm = confusion_matrix(y_test, y_pred, labels=['Benign', 'Attack'])\n",
    "plt.figure(figsize=(6,5))\n",
    "sns.heatmap(cm, annot=True, fmt='d', cmap='Blues', xticklabels=['Benign', 'Attack'], yticklabels=['Benign', 'Attack'])\n",
    "plt.ylabel('Actual')\n",
    "plt.xlabel('Predicted')\n",
    "plt.title('Confusion Matrix')\n",
    "plt.show()\n",
    "\n",
    "# Save the model and feature names\n",
    "joblib.dump(model, \"new_model.joblib\")\n",
    "joblib.dump(list(X.columns), \"model_features.joblib\")\n",
    "print(\"Model saved as new_model.joblib and features saved as model_features.joblib\")\n",
    "\n",
    "\n"
   ]
  },
  {
   "cell_type": "code",
   "execution_count": 18,
   "metadata": {},
   "outputs": [
    {
     "name": "stdout",
     "output_type": "stream",
     "text": [
      "Label\n",
      "Benign    1206738\n",
      "Attack     514253\n",
      "Name: count, dtype: int64\n"
     ]
    }
   ],
   "source": [
    "print(df['Label'].value_counts())\n"
   ]
  },
  {
   "cell_type": "code",
   "execution_count": 19,
   "metadata": {},
   "outputs": [
    {
     "name": "stdout",
     "output_type": "stream",
     "text": [
      "Feature ranges saved to feature_ranges.json\n"
     ]
    }
   ],
   "source": [
    "import pandas as pd\n",
    "import numpy as np\n",
    "import json\n",
    "\n",
    "# List your cleaned CSV files here\n",
    "files = [\n",
    "    'tuesday_plus_cleaned.csv',\n",
    "    'wednesday_plus_cleaned.csv',\n",
    "    'thursday_plus_cleaned.csv',\n",
    "    'friday_plus_cleaned.csv'\n",
    "]\n",
    "\n",
    "# Columns you used in model (features only, exclude Label)\n",
    "features = [\n",
    "    'Flow Duration',\n",
    "    'Total Fwd Packet',\n",
    "    'Total Bwd packets',\n",
    "    'Total Length of Fwd Packet',\n",
    "    'Total Length of Bwd Packet',\n",
    "    'Fwd Packet Length Mean',\n",
    "    'Bwd Packet Length Mean',\n",
    "    'Flow Bytes/s',\n",
    "    'Flow Packets/s',\n",
    "    'Flow IAT Mean',\n",
    "    'Fwd IAT Mean',\n",
    "    'Bwd IAT Mean',\n",
    "    'FIN Flag Count',\n",
    "    'SYN Flag Count',\n",
    "    'RST Flag Count',\n",
    "    'PSH Flag Count',\n",
    "    'ACK Flag Count',\n",
    "    'URG Flag Count',\n",
    "    'FWD Init Win Bytes',\n",
    "    'Bwd Init Win Bytes',\n",
    "    'Down/Up Ratio',\n",
    "    'Average Packet Size',\n",
    "    'Fwd Segment Size Avg',\n",
    "    'Bwd Segment Size Avg',\n",
    "    'Protocol',\n",
    "    'Src Port',\n",
    "    'Dst Port'\n",
    "]\n",
    "\n",
    "# Combine data from all files\n",
    "dfs = [pd.read_csv(f) for f in files]\n",
    "df = pd.concat(dfs, ignore_index=True)\n",
    "\n",
    "# Keep only needed features\n",
    "df = df[features]\n",
    "\n",
    "# Replace infinite or invalid values with NaN, then fill NaN with 0 or median\n",
    "df.replace([np.inf, -np.inf], np.nan, inplace=True)\n",
    "df.fillna(0, inplace=True)\n",
    "\n",
    "# Collect min and max per feature\n",
    "feature_ranges = {}\n",
    "for col in features:\n",
    "    min_val = df[col].min()\n",
    "    max_val = df[col].max()\n",
    "    # Convert to native Python float for JSON compatibility\n",
    "    feature_ranges[col] = (float(min_val), float(max_val))\n",
    "\n",
    "# Save to JSON file\n",
    "with open('feature_ranges.json', 'w') as f:\n",
    "    json.dump(feature_ranges, f, indent=2)\n",
    "\n",
    "print(\"Feature ranges saved to feature_ranges.json\")\n"
   ]
  },
  {
   "cell_type": "code",
   "execution_count": null,
   "metadata": {},
   "outputs": [],
   "source": []
  },
  {
   "cell_type": "code",
   "execution_count": 4,
   "metadata": {},
   "outputs": [
    {
     "data": {
      "image/png": "[encoded data removed]",
      "text/plain": [
       "<Figure size 600x500 with 2 Axes>"
      ]
     },
     "metadata": {},
     "output_type": "display_data"
    },
    {
     "name": "stdout",
     "output_type": "stream",
     "text": [
      "Confusion Matrix:\n",
      "[[361949     66]\n",
      " [    44 154239]]\n"
     ]
    }
   ],
   "source": [
    "import matplotlib.pyplot as plt\n",
    "import seaborn as sns\n",
    "from sklearn.metrics import confusion_matrix\n",
    "\n",
    "# Assuming y_test and y_pred are your true and predicted labels\n",
    "cm = confusion_matrix(y_test, y_pred, labels=['Benign', 'Attack'])\n",
    "\n",
    "plt.figure(figsize=(6,5))\n",
    "sns.heatmap(cm, annot=True, fmt='d', cmap='Blues', xticklabels=['Benign', 'Attack'], yticklabels=['Benign', 'Attack'])\n",
    "plt.xlabel('Predicted Label')\n",
    "plt.ylabel('True Label')\n",
    "plt.title('Confusion Matrix')\n",
    "plt.show()\n",
    "\n",
    "print(\"Confusion Matrix:\")\n",
    "print(cm)\n"
   ]
  },
  {
   "cell_type": "code",
   "execution_count": 5,
   "metadata": {},
   "outputs": [
    {
     "name": "stdout",
     "output_type": "stream",
     "text": [
      "✅ Model saved as final_model.joblib\n"
     ]
    }
   ],
   "source": [
    "import joblib\n",
    "\n",
    "joblib.dump(model, 'new_model.joblib')\n",
    "print(\"✅ Model saved as final_model.joblib\")\n",
    "\n",
    "\n"
   ]
  },
  {
   "cell_type": "code",
   "execution_count": 17,
   "metadata": {},
   "outputs": [
    {
     "name": "stdout",
     "output_type": "stream",
     "text": [
      "=== Model 1 (Full Feature Set) ===\n",
      "Accuracy: 1.0\n",
      "Time to predict: 0.9944 s\n",
      "              precision    recall  f1-score   support\n",
      "\n",
      "      Attack       1.00      1.00      1.00      6972\n",
      "      Benign       1.00      1.00      1.00    314071\n",
      "\n",
      "    accuracy                           1.00    321043\n",
      "   macro avg       1.00      1.00      1.00    321043\n",
      "weighted avg       1.00      1.00      1.00    321043\n",
      "\n",
      "\n",
      "=== Model 2 (Smaller Feature Set) ===\n",
      "Accuracy: 1.0\n",
      "Time to predict: 0.7823 s\n",
      "              precision    recall  f1-score   support\n",
      "\n",
      "      Attack       1.00      1.00      1.00      6972\n",
      "      Benign       1.00      1.00      1.00    314071\n",
      "\n",
      "    accuracy                           1.00    321043\n",
      "   macro avg       1.00      1.00      1.00    321043\n",
      "weighted avg       1.00      1.00      1.00    321043\n",
      "\n",
      "\n",
      "=== Summary Comparison ===\n",
      "Model 1 – Accuracy: 1.0000, Predict Time: 0.9944s\n",
      "Model 2 – Accuracy: 1.0000, Predict Time: 0.7823s\n"
     ]
    }
   ],
   "source": [
    "import pandas as pd\n",
    "import numpy as np\n",
    "import joblib\n",
    "import time\n",
    "from sklearn.preprocessing import LabelEncoder\n",
    "from sklearn.metrics import accuracy_score, classification_report\n",
    "\n",
    "# ----------------------\n",
    "# 1. Load your test dataset\n",
    "# ----------------------\n",
    "df_test = pd.read_csv('tuesday_plus_cleaned.csv')\n",
    "\n",
    "# Apply same preprocessing as during training:\n",
    "df_test['Label'] = df_test['Label'].str.upper()\n",
    "df_test['Label'] = df_test['Label'].apply(lambda x: 'Benign' if x == 'BENIGN' else 'Attack')\n",
    "\n",
    "# Separate features and labels\n",
    "y_test = df_test['Label']\n",
    "X_test = df_test.drop(columns=['Label'])\n",
    "\n",
    "# ----------------------\n",
    "# 2. Load your trained models\n",
    "# ----------------------\n",
    "model1 = joblib.load('random_forest_model.joblib')  # model with full feature set\n",
    "model2 = joblib.load('new_model.joblib')            # model with smaller feature set\n",
    "\n",
    "# ----------------------\n",
    "# 3. Define helper to align features\n",
    "# ----------------------\n",
    "def align_features(X, feature_names):\n",
    "    \"\"\"\n",
    "    Ensure X has all columns from feature_names.\n",
    "    Adds missing columns with zero, reorders columns exactly.\n",
    "    \"\"\"\n",
    "    X_copy = X.copy()\n",
    "    missing = [col for col in feature_names if col not in X_copy.columns]\n",
    "    for col in missing:\n",
    "        X_copy[col] = 0\n",
    "    return X_copy[feature_names]\n",
    "\n",
    "# ----------------------\n",
    "# 4. Prepare test sets for each model\n",
    "# ----------------------\n",
    "X_test_model1 = align_features(X_test, model1.feature_names_in_)\n",
    "X_test_model2 = align_features(X_test, model2.feature_names_in_)\n",
    "\n",
    "# ----------------------\n",
    "# 5. Encode true labels for numeric comparison\n",
    "# ----------------------\n",
    "le = LabelEncoder()\n",
    "le.fit(y_test)\n",
    "y_test_enc = le.transform(y_test)\n",
    "\n",
    "# ----------------------\n",
    "# 6. Evaluate Model 1\n",
    "# ----------------------\n",
    "start = time.time()\n",
    "y_pred1 = model1.predict(X_test_model1)\n",
    "time1 = time.time() - start\n",
    "\n",
    "# If model predicts strings, encode them\n",
    "if isinstance(y_pred1[0], str):\n",
    "    y_pred1_enc = le.transform(y_pred1)\n",
    "else:\n",
    "    y_pred1_enc = y_pred1\n",
    "\n",
    "print(\"=== Model 1 (Full Feature Set) ===\")\n",
    "print(\"Accuracy:\", round(accuracy_score(y_test_enc, y_pred1_enc), 4))\n",
    "print(\"Time to predict:\", round(time1, 4), \"s\")\n",
    "print(classification_report(y_test_enc, y_pred1_enc, target_names=le.classes_))\n",
    "\n",
    "# ----------------------\n",
    "# 7. Evaluate Model 2\n",
    "# ----------------------\n",
    "start = time.time()\n",
    "y_pred2 = model2.predict(X_test_model2)\n",
    "time2 = time.time() - start\n",
    "\n",
    "if isinstance(y_pred2[0], str):\n",
    "    y_pred2_enc = le.transform(y_pred2)\n",
    "else:\n",
    "    y_pred2_enc = y_pred2\n",
    "\n",
    "print(\"\\n=== Model 2 (Smaller Feature Set) ===\")\n",
    "print(\"Accuracy:\", round(accuracy_score(y_test_enc, y_pred2_enc), 4))\n",
    "print(\"Time to predict:\", round(time2, 4), \"s\")\n",
    "print(classification_report(y_test_enc, y_pred2_enc, target_names=le.classes_))\n",
    "\n",
    "# ----------------------\n",
    "# 8. Summary Comparison\n",
    "# ----------------------\n",
    "print(\"\\n=== Summary Comparison ===\")\n",
    "print(f\"Model 1 – Accuracy: {accuracy_score(y_test_enc, y_pred1_enc):.4f}, Predict Time: {time1:.4f}s\")\n",
    "print(f\"Model 2 – Accuracy: {accuracy_score(y_test_enc, y_pred2_enc):.4f}, Predict Time: {time2:.4f}s\")\n",
    "\n",
    "\n",
    "\n"
   ]
  },
  {
   "cell_type": "code",
   "execution_count": 7,
   "metadata": {},
   "outputs": [
    {
     "name": "stdout",
     "output_type": "stream",
     "text": [
      "Combined data shape: (1720991, 96)\n"
     ]
    }
   ],
   "source": [
    "import pandas as pd\n",
    "\n",
    "# List your CSV files here\n",
    "files = [\n",
    "    'tuesday_plus_cleaned.csv',\n",
    "    'wednesday_plus_cleaned.csv',\n",
    "    'thursday_plus_cleaned.csv',\n",
    "    'friday_plus_cleaned.csv'\n",
    "]\n",
    "\n",
    "# Read and concatenate\n",
    "df_list = [pd.read_csv(file) for file in files]\n",
    "combined_df = pd.concat(df_list, ignore_index=True)\n",
    "\n",
    "print(f\"Combined data shape: {combined_df.shape}\")\n",
    "\n",
    "\n",
    "\n",
    "\n"
   ]
  },
  {
   "cell_type": "code",
   "execution_count": 21,
   "metadata": {},
   "outputs": [
    {
     "name": "stdout",
     "output_type": "stream",
     "text": [
      "Feature ranges saved to feature_ranges.json\n"
     ]
    }
   ],
   "source": [
    "import pandas as pd\n",
    "import json\n",
    "\n",
    "# List all your cleaned CSV files here\n",
    "files = [\n",
    "    'tuesday_plus_cleaned.csv',\n",
    "    'wednesday_plus_cleaned.csv',\n",
    "    'thursday_plus_cleaned.csv',\n",
    "    'friday_plus_cleaned.csv'\n",
    "]\n",
    "\n",
    "# Load and combine all data\n",
    "df_list = [pd.read_csv(f) for f in files]\n",
    "df = pd.concat(df_list, ignore_index=True)\n",
    "\n",
    "# Drop columns that are not numeric or useful\n",
    "# For example, drop 'Label' or any categorical columns you don’t want to analyze here\n",
    "df = df.select_dtypes(include=['number'])  # select only numeric columns\n",
    "\n",
    "# Get min and max for each feature\n",
    "feature_ranges = {}\n",
    "for col in df.columns:\n",
    "    min_val = df[col].min()\n",
    "    max_val = df[col].max()\n",
    "    feature_ranges[col] = (float(min_val), float(max_val))\n",
    "\n",
    "# Save to JSON\n",
    "with open(\"feature_ranges.json\", \"w\") as f:\n",
    "    json.dump(feature_ranges, f, indent=2)\n",
    "\n",
    "print(\"Feature ranges saved to feature_ranges.json\")\n"
   ]
  },
  {
   "cell_type": "code",
   "execution_count": 22,
   "metadata": {},
   "outputs": [
    {
     "name": "stdout",
     "output_type": "stream",
     "text": [
      "Loading tuesday_plus_cleaned.csv\n",
      "Loading wednesday_plus_cleaned.csv\n",
      "Loading thursday_plus_cleaned.csv\n",
      "Loading friday_plus_cleaned.csv\n",
      "✅ Saved 1000 attack samples to 'attack_samples.csv'\n"
     ]
    }
   ],
   "source": [
    "import pandas as pd\n",
    "import os\n",
    "\n",
    "# List of cleaned CSV files\n",
    "files = [\n",
    "    \"tuesday_plus_cleaned.csv\",\n",
    "    \"wednesday_plus_cleaned.csv\",\n",
    "    \"thursday_plus_cleaned.csv\",\n",
    "    \"friday_plus_cleaned.csv\"\n",
    "]\n",
    "\n",
    "attack_samples = []\n",
    "\n",
    "for file in files:\n",
    "    if os.path.exists(file):\n",
    "        print(f\"Loading {file}\")\n",
    "        df = pd.read_csv(file)\n",
    "        df['Label'] = df['Label'].str.upper()\n",
    "        df['Label'] = df['Label'].apply(lambda x: 'Benign' if x == 'BENIGN' else 'Attack')\n",
    "        attack_df = df[df['Label'] == 'Attack'].drop(columns=['Label'])\n",
    "        attack_samples.append(attack_df)\n",
    "    else:\n",
    "        print(f\"⚠️ File not found: {file}\")\n",
    "\n",
    "# Combine all attack samples into one DataFrame\n",
    "if attack_samples:\n",
    "    combined_attacks = pd.concat(attack_samples, ignore_index=True)\n",
    "    sampled_attacks = combined_attacks.sample(n=1000, random_state=42)  # Adjust `n` as needed\n",
    "    sampled_attacks.to_csv(\"attack_samples.csv\", index=False)\n",
    "    print(\"✅ Saved 1000 attack samples to 'attack_samples.csv'\")\n",
    "else:\n",
    "    print(\"❌ No valid files found or no attack samples.\")\n"
   ]
  }
 ],
 "metadata": {
  "kernelspec": {
   "display_name": "Python 3",
   "language": "python",
   "name": "python3"
  },
  "language_info": {
   "codemirror_mode": {
    "name": "ipython",
    "version": 3
   },
   "file_extension": ".py",
   "mimetype": "text/x-python",
   "name": "python",
   "nbconvert_exporter": "python",
   "pygments_lexer": "ipython3",
   "version": "3.13.0"
  }
 },
 "nbformat": 4,
 "nbformat_minor": 2
}
